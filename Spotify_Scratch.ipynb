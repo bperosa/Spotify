{
 "cells": [
  {
   "cell_type": "code",
   "execution_count": 1,
   "id": "af603bfc-3399-414d-97d1-8e597050cb9d",
   "metadata": {},
   "outputs": [],
   "source": [
    "# Final Project Scratch\n",
    "\n",
    "# Packages\n",
    "import pandas as pd\n",
    "import matplotlib.pyplot as plt\n",
    "import numpy as np\n",
    "from sklearn.preprocessing import StandardScaler\n",
    "from sklearn.decomposition import PCA"
   ]
  },
  {
   "cell_type": "code",
   "execution_count": 2,
   "id": "9b2f28c8-bafe-4bd6-9825-0a24c3965a09",
   "metadata": {},
   "outputs": [
    {
     "ename": "FileNotFoundError",
     "evalue": "[Errno 2] No such file or directory: 'music.csv'",
     "output_type": "error",
     "traceback": [
      "\u001b[0;31m---------------------------------------------------------------------------\u001b[0m",
      "\u001b[0;31mFileNotFoundError\u001b[0m                         Traceback (most recent call last)",
      "\u001b[0;32m/tmp/ipykernel_6689/2535745643.py\u001b[0m in \u001b[0;36m<module>\u001b[0;34m\u001b[0m\n\u001b[0;32m----> 1\u001b[0;31m \u001b[0mmusic\u001b[0m \u001b[0;34m=\u001b[0m \u001b[0mpd\u001b[0m\u001b[0;34m.\u001b[0m\u001b[0mread_csv\u001b[0m\u001b[0;34m(\u001b[0m\u001b[0;34m'music.csv'\u001b[0m\u001b[0;34m)\u001b[0m\u001b[0;34m\u001b[0m\u001b[0;34m\u001b[0m\u001b[0m\n\u001b[0m",
      "\u001b[0;32m/usr/local/lib/python3.8/dist-packages/pandas/util/_decorators.py\u001b[0m in \u001b[0;36mwrapper\u001b[0;34m(*args, **kwargs)\u001b[0m\n\u001b[1;32m    309\u001b[0m                     \u001b[0mstacklevel\u001b[0m\u001b[0;34m=\u001b[0m\u001b[0mstacklevel\u001b[0m\u001b[0;34m,\u001b[0m\u001b[0;34m\u001b[0m\u001b[0;34m\u001b[0m\u001b[0m\n\u001b[1;32m    310\u001b[0m                 )\n\u001b[0;32m--> 311\u001b[0;31m             \u001b[0;32mreturn\u001b[0m \u001b[0mfunc\u001b[0m\u001b[0;34m(\u001b[0m\u001b[0;34m*\u001b[0m\u001b[0margs\u001b[0m\u001b[0;34m,\u001b[0m \u001b[0;34m**\u001b[0m\u001b[0mkwargs\u001b[0m\u001b[0;34m)\u001b[0m\u001b[0;34m\u001b[0m\u001b[0;34m\u001b[0m\u001b[0m\n\u001b[0m\u001b[1;32m    312\u001b[0m \u001b[0;34m\u001b[0m\u001b[0m\n\u001b[1;32m    313\u001b[0m         \u001b[0;32mreturn\u001b[0m \u001b[0mwrapper\u001b[0m\u001b[0;34m\u001b[0m\u001b[0;34m\u001b[0m\u001b[0m\n",
      "\u001b[0;32m/usr/local/lib/python3.8/dist-packages/pandas/io/parsers/readers.py\u001b[0m in \u001b[0;36mread_csv\u001b[0;34m(filepath_or_buffer, sep, delimiter, header, names, index_col, usecols, squeeze, prefix, mangle_dupe_cols, dtype, engine, converters, true_values, false_values, skipinitialspace, skiprows, skipfooter, nrows, na_values, keep_default_na, na_filter, verbose, skip_blank_lines, parse_dates, infer_datetime_format, keep_date_col, date_parser, dayfirst, cache_dates, iterator, chunksize, compression, thousands, decimal, lineterminator, quotechar, quoting, doublequote, escapechar, comment, encoding, encoding_errors, dialect, error_bad_lines, warn_bad_lines, on_bad_lines, delim_whitespace, low_memory, memory_map, float_precision, storage_options)\u001b[0m\n\u001b[1;32m    584\u001b[0m     \u001b[0mkwds\u001b[0m\u001b[0;34m.\u001b[0m\u001b[0mupdate\u001b[0m\u001b[0;34m(\u001b[0m\u001b[0mkwds_defaults\u001b[0m\u001b[0;34m)\u001b[0m\u001b[0;34m\u001b[0m\u001b[0;34m\u001b[0m\u001b[0m\n\u001b[1;32m    585\u001b[0m \u001b[0;34m\u001b[0m\u001b[0m\n\u001b[0;32m--> 586\u001b[0;31m     \u001b[0;32mreturn\u001b[0m \u001b[0m_read\u001b[0m\u001b[0;34m(\u001b[0m\u001b[0mfilepath_or_buffer\u001b[0m\u001b[0;34m,\u001b[0m \u001b[0mkwds\u001b[0m\u001b[0;34m)\u001b[0m\u001b[0;34m\u001b[0m\u001b[0;34m\u001b[0m\u001b[0m\n\u001b[0m\u001b[1;32m    587\u001b[0m \u001b[0;34m\u001b[0m\u001b[0m\n\u001b[1;32m    588\u001b[0m \u001b[0;34m\u001b[0m\u001b[0m\n",
      "\u001b[0;32m/usr/local/lib/python3.8/dist-packages/pandas/io/parsers/readers.py\u001b[0m in \u001b[0;36m_read\u001b[0;34m(filepath_or_buffer, kwds)\u001b[0m\n\u001b[1;32m    480\u001b[0m \u001b[0;34m\u001b[0m\u001b[0m\n\u001b[1;32m    481\u001b[0m     \u001b[0;31m# Create the parser.\u001b[0m\u001b[0;34m\u001b[0m\u001b[0;34m\u001b[0m\u001b[0;34m\u001b[0m\u001b[0m\n\u001b[0;32m--> 482\u001b[0;31m     \u001b[0mparser\u001b[0m \u001b[0;34m=\u001b[0m \u001b[0mTextFileReader\u001b[0m\u001b[0;34m(\u001b[0m\u001b[0mfilepath_or_buffer\u001b[0m\u001b[0;34m,\u001b[0m \u001b[0;34m**\u001b[0m\u001b[0mkwds\u001b[0m\u001b[0;34m)\u001b[0m\u001b[0;34m\u001b[0m\u001b[0;34m\u001b[0m\u001b[0m\n\u001b[0m\u001b[1;32m    483\u001b[0m \u001b[0;34m\u001b[0m\u001b[0m\n\u001b[1;32m    484\u001b[0m     \u001b[0;32mif\u001b[0m \u001b[0mchunksize\u001b[0m \u001b[0;32mor\u001b[0m \u001b[0miterator\u001b[0m\u001b[0;34m:\u001b[0m\u001b[0;34m\u001b[0m\u001b[0;34m\u001b[0m\u001b[0m\n",
      "\u001b[0;32m/usr/local/lib/python3.8/dist-packages/pandas/io/parsers/readers.py\u001b[0m in \u001b[0;36m__init__\u001b[0;34m(self, f, engine, **kwds)\u001b[0m\n\u001b[1;32m    809\u001b[0m             \u001b[0mself\u001b[0m\u001b[0;34m.\u001b[0m\u001b[0moptions\u001b[0m\u001b[0;34m[\u001b[0m\u001b[0;34m\"has_index_names\"\u001b[0m\u001b[0;34m]\u001b[0m \u001b[0;34m=\u001b[0m \u001b[0mkwds\u001b[0m\u001b[0;34m[\u001b[0m\u001b[0;34m\"has_index_names\"\u001b[0m\u001b[0;34m]\u001b[0m\u001b[0;34m\u001b[0m\u001b[0;34m\u001b[0m\u001b[0m\n\u001b[1;32m    810\u001b[0m \u001b[0;34m\u001b[0m\u001b[0m\n\u001b[0;32m--> 811\u001b[0;31m         \u001b[0mself\u001b[0m\u001b[0;34m.\u001b[0m\u001b[0m_engine\u001b[0m \u001b[0;34m=\u001b[0m \u001b[0mself\u001b[0m\u001b[0;34m.\u001b[0m\u001b[0m_make_engine\u001b[0m\u001b[0;34m(\u001b[0m\u001b[0mself\u001b[0m\u001b[0;34m.\u001b[0m\u001b[0mengine\u001b[0m\u001b[0;34m)\u001b[0m\u001b[0;34m\u001b[0m\u001b[0;34m\u001b[0m\u001b[0m\n\u001b[0m\u001b[1;32m    812\u001b[0m \u001b[0;34m\u001b[0m\u001b[0m\n\u001b[1;32m    813\u001b[0m     \u001b[0;32mdef\u001b[0m \u001b[0mclose\u001b[0m\u001b[0;34m(\u001b[0m\u001b[0mself\u001b[0m\u001b[0;34m)\u001b[0m\u001b[0;34m:\u001b[0m\u001b[0;34m\u001b[0m\u001b[0;34m\u001b[0m\u001b[0m\n",
      "\u001b[0;32m/usr/local/lib/python3.8/dist-packages/pandas/io/parsers/readers.py\u001b[0m in \u001b[0;36m_make_engine\u001b[0;34m(self, engine)\u001b[0m\n\u001b[1;32m   1038\u001b[0m             )\n\u001b[1;32m   1039\u001b[0m         \u001b[0;31m# error: Too many arguments for \"ParserBase\"\u001b[0m\u001b[0;34m\u001b[0m\u001b[0;34m\u001b[0m\u001b[0;34m\u001b[0m\u001b[0m\n\u001b[0;32m-> 1040\u001b[0;31m         \u001b[0;32mreturn\u001b[0m \u001b[0mmapping\u001b[0m\u001b[0;34m[\u001b[0m\u001b[0mengine\u001b[0m\u001b[0;34m]\u001b[0m\u001b[0;34m(\u001b[0m\u001b[0mself\u001b[0m\u001b[0;34m.\u001b[0m\u001b[0mf\u001b[0m\u001b[0;34m,\u001b[0m \u001b[0;34m**\u001b[0m\u001b[0mself\u001b[0m\u001b[0;34m.\u001b[0m\u001b[0moptions\u001b[0m\u001b[0;34m)\u001b[0m  \u001b[0;31m# type: ignore[call-arg]\u001b[0m\u001b[0;34m\u001b[0m\u001b[0;34m\u001b[0m\u001b[0m\n\u001b[0m\u001b[1;32m   1041\u001b[0m \u001b[0;34m\u001b[0m\u001b[0m\n\u001b[1;32m   1042\u001b[0m     \u001b[0;32mdef\u001b[0m \u001b[0m_failover_to_python\u001b[0m\u001b[0;34m(\u001b[0m\u001b[0mself\u001b[0m\u001b[0;34m)\u001b[0m\u001b[0;34m:\u001b[0m\u001b[0;34m\u001b[0m\u001b[0;34m\u001b[0m\u001b[0m\n",
      "\u001b[0;32m/usr/local/lib/python3.8/dist-packages/pandas/io/parsers/c_parser_wrapper.py\u001b[0m in \u001b[0;36m__init__\u001b[0;34m(self, src, **kwds)\u001b[0m\n\u001b[1;32m     49\u001b[0m \u001b[0;34m\u001b[0m\u001b[0m\n\u001b[1;32m     50\u001b[0m         \u001b[0;31m# open handles\u001b[0m\u001b[0;34m\u001b[0m\u001b[0;34m\u001b[0m\u001b[0;34m\u001b[0m\u001b[0m\n\u001b[0;32m---> 51\u001b[0;31m         \u001b[0mself\u001b[0m\u001b[0;34m.\u001b[0m\u001b[0m_open_handles\u001b[0m\u001b[0;34m(\u001b[0m\u001b[0msrc\u001b[0m\u001b[0;34m,\u001b[0m \u001b[0mkwds\u001b[0m\u001b[0;34m)\u001b[0m\u001b[0;34m\u001b[0m\u001b[0;34m\u001b[0m\u001b[0m\n\u001b[0m\u001b[1;32m     52\u001b[0m         \u001b[0;32massert\u001b[0m \u001b[0mself\u001b[0m\u001b[0;34m.\u001b[0m\u001b[0mhandles\u001b[0m \u001b[0;32mis\u001b[0m \u001b[0;32mnot\u001b[0m \u001b[0;32mNone\u001b[0m\u001b[0;34m\u001b[0m\u001b[0;34m\u001b[0m\u001b[0m\n\u001b[1;32m     53\u001b[0m \u001b[0;34m\u001b[0m\u001b[0m\n",
      "\u001b[0;32m/usr/local/lib/python3.8/dist-packages/pandas/io/parsers/base_parser.py\u001b[0m in \u001b[0;36m_open_handles\u001b[0;34m(self, src, kwds)\u001b[0m\n\u001b[1;32m    220\u001b[0m         \u001b[0mLet\u001b[0m \u001b[0mthe\u001b[0m \u001b[0mreaders\u001b[0m \u001b[0mopen\u001b[0m \u001b[0mIOHandles\u001b[0m \u001b[0mafter\u001b[0m \u001b[0mthey\u001b[0m \u001b[0mare\u001b[0m \u001b[0mdone\u001b[0m \u001b[0;32mwith\u001b[0m \u001b[0mtheir\u001b[0m \u001b[0mpotential\u001b[0m \u001b[0mraises\u001b[0m\u001b[0;34m.\u001b[0m\u001b[0;34m\u001b[0m\u001b[0;34m\u001b[0m\u001b[0m\n\u001b[1;32m    221\u001b[0m         \"\"\"\n\u001b[0;32m--> 222\u001b[0;31m         self.handles = get_handle(\n\u001b[0m\u001b[1;32m    223\u001b[0m             \u001b[0msrc\u001b[0m\u001b[0;34m,\u001b[0m\u001b[0;34m\u001b[0m\u001b[0;34m\u001b[0m\u001b[0m\n\u001b[1;32m    224\u001b[0m             \u001b[0;34m\"r\"\u001b[0m\u001b[0;34m,\u001b[0m\u001b[0;34m\u001b[0m\u001b[0;34m\u001b[0m\u001b[0m\n",
      "\u001b[0;32m/usr/local/lib/python3.8/dist-packages/pandas/io/common.py\u001b[0m in \u001b[0;36mget_handle\u001b[0;34m(path_or_buf, mode, encoding, compression, memory_map, is_text, errors, storage_options)\u001b[0m\n\u001b[1;32m    699\u001b[0m         \u001b[0;32mif\u001b[0m \u001b[0mioargs\u001b[0m\u001b[0;34m.\u001b[0m\u001b[0mencoding\u001b[0m \u001b[0;32mand\u001b[0m \u001b[0;34m\"b\"\u001b[0m \u001b[0;32mnot\u001b[0m \u001b[0;32min\u001b[0m \u001b[0mioargs\u001b[0m\u001b[0;34m.\u001b[0m\u001b[0mmode\u001b[0m\u001b[0;34m:\u001b[0m\u001b[0;34m\u001b[0m\u001b[0;34m\u001b[0m\u001b[0m\n\u001b[1;32m    700\u001b[0m             \u001b[0;31m# Encoding\u001b[0m\u001b[0;34m\u001b[0m\u001b[0;34m\u001b[0m\u001b[0;34m\u001b[0m\u001b[0m\n\u001b[0;32m--> 701\u001b[0;31m             handle = open(\n\u001b[0m\u001b[1;32m    702\u001b[0m                 \u001b[0mhandle\u001b[0m\u001b[0;34m,\u001b[0m\u001b[0;34m\u001b[0m\u001b[0;34m\u001b[0m\u001b[0m\n\u001b[1;32m    703\u001b[0m                 \u001b[0mioargs\u001b[0m\u001b[0;34m.\u001b[0m\u001b[0mmode\u001b[0m\u001b[0;34m,\u001b[0m\u001b[0;34m\u001b[0m\u001b[0;34m\u001b[0m\u001b[0m\n",
      "\u001b[0;31mFileNotFoundError\u001b[0m: [Errno 2] No such file or directory: 'music.csv'"
     ]
    }
   ],
   "source": [
    "music = pd.read_csv('music.csv')"
   ]
  },
  {
   "cell_type": "code",
   "execution_count": 3,
   "id": "c0ac2e9b-1f77-498d-91ad-6c36b783176e",
   "metadata": {},
   "outputs": [
    {
     "name": "stdout",
     "output_type": "stream",
     "text": [
      "<class 'pandas.core.frame.DataFrame'>\n",
      "RangeIndex: 174389 entries, 0 to 174388\n",
      "Data columns (total 19 columns):\n",
      " #   Column            Non-Null Count   Dtype  \n",
      "---  ------            --------------   -----  \n",
      " 0   acousticness      174389 non-null  float64\n",
      " 1   artists           174389 non-null  object \n",
      " 2   danceability      174389 non-null  float64\n",
      " 3   duration_ms       174389 non-null  int64  \n",
      " 4   energy            174389 non-null  float64\n",
      " 5   explicit          174389 non-null  int64  \n",
      " 6   id                174389 non-null  object \n",
      " 7   instrumentalness  174389 non-null  float64\n",
      " 8   key               174389 non-null  int64  \n",
      " 9   liveness          174389 non-null  float64\n",
      " 10  loudness          174389 non-null  float64\n",
      " 11  mode              174389 non-null  int64  \n",
      " 12  name              174389 non-null  object \n",
      " 13  popularity        174389 non-null  int64  \n",
      " 14  release_date      174389 non-null  object \n",
      " 15  speechiness       174389 non-null  float64\n",
      " 16  tempo             174389 non-null  float64\n",
      " 17  valence           174389 non-null  float64\n",
      " 18  year              174389 non-null  int64  \n",
      "dtypes: float64(9), int64(6), object(4)\n",
      "memory usage: 25.3+ MB\n"
     ]
    }
   ],
   "source": [
    "music.head()\n",
    "music.info()"
   ]
  },
  {
   "cell_type": "code",
   "execution_count": 4,
   "id": "79bcc7f6-1266-4175-b0e1-7e736ff231af",
   "metadata": {},
   "outputs": [
    {
     "name": "stderr",
     "output_type": "stream",
     "text": [
      "C:\\Users\\jessi\\anaconda3\\lib\\site-packages\\ipykernel_launcher.py:3: FutureWarning: In a future version of pandas all arguments of DataFrame.drop except for the argument 'labels' will be keyword-only\n",
      "  This is separate from the ipykernel package so we can avoid doing imports until\n",
      "C:\\Users\\jessi\\anaconda3\\lib\\site-packages\\ipykernel_launcher.py:4: FutureWarning: In a future version of pandas all arguments of DataFrame.drop except for the argument 'labels' will be keyword-only\n",
      "  after removing the cwd from sys.path.\n"
     ]
    }
   ],
   "source": [
    "# Remove columns ID and Name\n",
    "\n",
    "music = music.drop('id', 1)\n",
    "music = music.drop('name', 1)"
   ]
  },
  {
   "cell_type": "code",
   "execution_count": 5,
   "id": "91931585-dfdc-4c70-93e9-450ce5ccf7ab",
   "metadata": {},
   "outputs": [
    {
     "name": "stdout",
     "output_type": "stream",
     "text": [
      "<class 'pandas.core.frame.DataFrame'>\n",
      "RangeIndex: 174389 entries, 0 to 174388\n",
      "Data columns (total 17 columns):\n",
      " #   Column            Non-Null Count   Dtype  \n",
      "---  ------            --------------   -----  \n",
      " 0   acousticness      174389 non-null  float64\n",
      " 1   artists           174389 non-null  object \n",
      " 2   danceability      174389 non-null  float64\n",
      " 3   duration_ms       174389 non-null  int64  \n",
      " 4   energy            174389 non-null  float64\n",
      " 5   explicit          174389 non-null  int64  \n",
      " 6   instrumentalness  174389 non-null  float64\n",
      " 7   key               174389 non-null  int64  \n",
      " 8   liveness          174389 non-null  float64\n",
      " 9   loudness          174389 non-null  float64\n",
      " 10  mode              174389 non-null  int64  \n",
      " 11  popularity        174389 non-null  int64  \n",
      " 12  release_date      174389 non-null  object \n",
      " 13  speechiness       174389 non-null  float64\n",
      " 14  tempo             174389 non-null  float64\n",
      " 15  valence           174389 non-null  float64\n",
      " 16  year              174389 non-null  int64  \n",
      "dtypes: float64(9), int64(6), object(2)\n",
      "memory usage: 22.6+ MB\n"
     ]
    }
   ],
   "source": [
    "music.head()\n",
    "music.info()"
   ]
  },
  {
   "cell_type": "code",
   "execution_count": 6,
   "id": "25d35231-63c5-43ed-8ea7-f2a8c15cbdff",
   "metadata": {},
   "outputs": [],
   "source": [
    "# Decades Variable\n",
    "\n",
    "#music.loc[1,1]\n",
    "#len(music)\n",
    "music['year'][1201] >= 1930\n",
    "music.year[1201] >= 1930\n",
    "\n",
    "music['decade'] = 1"
   ]
  },
  {
   "cell_type": "code",
   "execution_count": 7,
   "id": "c843eb49-ad77-4b91-9004-aea90cf703a7",
   "metadata": {},
   "outputs": [
    {
     "name": "stdout",
     "output_type": "stream",
     "text": [
      "<class 'pandas.core.frame.DataFrame'>\n",
      "RangeIndex: 174389 entries, 0 to 174388\n",
      "Data columns (total 18 columns):\n",
      " #   Column            Non-Null Count   Dtype  \n",
      "---  ------            --------------   -----  \n",
      " 0   acousticness      174389 non-null  float64\n",
      " 1   artists           174389 non-null  object \n",
      " 2   danceability      174389 non-null  float64\n",
      " 3   duration_ms       174389 non-null  int64  \n",
      " 4   energy            174389 non-null  float64\n",
      " 5   explicit          174389 non-null  int64  \n",
      " 6   instrumentalness  174389 non-null  float64\n",
      " 7   key               174389 non-null  int64  \n",
      " 8   liveness          174389 non-null  float64\n",
      " 9   loudness          174389 non-null  float64\n",
      " 10  mode              174389 non-null  int64  \n",
      " 11  popularity        174389 non-null  int64  \n",
      " 12  release_date      174389 non-null  object \n",
      " 13  speechiness       174389 non-null  float64\n",
      " 14  tempo             174389 non-null  float64\n",
      " 15  valence           174389 non-null  float64\n",
      " 16  year              174389 non-null  int64  \n",
      " 17  decade            174389 non-null  int64  \n",
      "dtypes: float64(9), int64(7), object(2)\n",
      "memory usage: 23.9+ MB\n"
     ]
    }
   ],
   "source": [
    "music.head()\n",
    "music.info()"
   ]
  },
  {
   "cell_type": "code",
   "execution_count": 8,
   "id": "599536d0-610a-49ff-b6b5-0ef1a6a43bbc",
   "metadata": {},
   "outputs": [
    {
     "name": "stderr",
     "output_type": "stream",
     "text": [
      "C:\\Users\\jessi\\anaconda3\\lib\\site-packages\\ipykernel_launcher.py:3: SettingWithCopyWarning: \n",
      "A value is trying to be set on a copy of a slice from a DataFrame\n",
      "\n",
      "See the caveats in the documentation: https://pandas.pydata.org/pandas-docs/stable/user_guide/indexing.html#returning-a-view-versus-a-copy\n",
      "  This is separate from the ipykernel package so we can avoid doing imports until\n",
      "C:\\Users\\jessi\\anaconda3\\lib\\site-packages\\ipykernel_launcher.py:5: SettingWithCopyWarning: \n",
      "A value is trying to be set on a copy of a slice from a DataFrame\n",
      "\n",
      "See the caveats in the documentation: https://pandas.pydata.org/pandas-docs/stable/user_guide/indexing.html#returning-a-view-versus-a-copy\n",
      "  \"\"\"\n",
      "C:\\Users\\jessi\\anaconda3\\lib\\site-packages\\ipykernel_launcher.py:7: SettingWithCopyWarning: \n",
      "A value is trying to be set on a copy of a slice from a DataFrame\n",
      "\n",
      "See the caveats in the documentation: https://pandas.pydata.org/pandas-docs/stable/user_guide/indexing.html#returning-a-view-versus-a-copy\n",
      "  import sys\n",
      "C:\\Users\\jessi\\anaconda3\\lib\\site-packages\\ipykernel_launcher.py:9: SettingWithCopyWarning: \n",
      "A value is trying to be set on a copy of a slice from a DataFrame\n",
      "\n",
      "See the caveats in the documentation: https://pandas.pydata.org/pandas-docs/stable/user_guide/indexing.html#returning-a-view-versus-a-copy\n",
      "  if __name__ == '__main__':\n",
      "C:\\Users\\jessi\\anaconda3\\lib\\site-packages\\ipykernel_launcher.py:11: SettingWithCopyWarning: \n",
      "A value is trying to be set on a copy of a slice from a DataFrame\n",
      "\n",
      "See the caveats in the documentation: https://pandas.pydata.org/pandas-docs/stable/user_guide/indexing.html#returning-a-view-versus-a-copy\n",
      "  # This is added back by InteractiveShellApp.init_path()\n",
      "C:\\Users\\jessi\\anaconda3\\lib\\site-packages\\ipykernel_launcher.py:19: SettingWithCopyWarning: \n",
      "A value is trying to be set on a copy of a slice from a DataFrame\n",
      "\n",
      "See the caveats in the documentation: https://pandas.pydata.org/pandas-docs/stable/user_guide/indexing.html#returning-a-view-versus-a-copy\n",
      "C:\\Users\\jessi\\anaconda3\\lib\\site-packages\\ipykernel_launcher.py:21: SettingWithCopyWarning: \n",
      "A value is trying to be set on a copy of a slice from a DataFrame\n",
      "\n",
      "See the caveats in the documentation: https://pandas.pydata.org/pandas-docs/stable/user_guide/indexing.html#returning-a-view-versus-a-copy\n",
      "C:\\Users\\jessi\\anaconda3\\lib\\site-packages\\ipykernel_launcher.py:23: SettingWithCopyWarning: \n",
      "A value is trying to be set on a copy of a slice from a DataFrame\n",
      "\n",
      "See the caveats in the documentation: https://pandas.pydata.org/pandas-docs/stable/user_guide/indexing.html#returning-a-view-versus-a-copy\n",
      "C:\\Users\\jessi\\anaconda3\\lib\\site-packages\\ipykernel_launcher.py:17: SettingWithCopyWarning: \n",
      "A value is trying to be set on a copy of a slice from a DataFrame\n",
      "\n",
      "See the caveats in the documentation: https://pandas.pydata.org/pandas-docs/stable/user_guide/indexing.html#returning-a-view-versus-a-copy\n",
      "C:\\Users\\jessi\\anaconda3\\lib\\site-packages\\ipykernel_launcher.py:13: SettingWithCopyWarning: \n",
      "A value is trying to be set on a copy of a slice from a DataFrame\n",
      "\n",
      "See the caveats in the documentation: https://pandas.pydata.org/pandas-docs/stable/user_guide/indexing.html#returning-a-view-versus-a-copy\n",
      "  del sys.path[0]\n",
      "C:\\Users\\jessi\\anaconda3\\lib\\site-packages\\ipykernel_launcher.py:15: SettingWithCopyWarning: \n",
      "A value is trying to be set on a copy of a slice from a DataFrame\n",
      "\n",
      "See the caveats in the documentation: https://pandas.pydata.org/pandas-docs/stable/user_guide/indexing.html#returning-a-view-versus-a-copy\n",
      "  from ipykernel import kernelapp as app\n"
     ]
    }
   ],
   "source": [
    "for i in range(len(music)):\n",
    "    if (music.year[i] >= 1920) & (music.year[i] < 1930):\n",
    "        music['decade'][i] = 1920\n",
    "    elif (music.year[i] >= 1930) & (music.year[i] < 1940):\n",
    "        music['decade'][i] = 1930\n",
    "    elif (music.year[i] >= 1940) & (music.year[i] < 1950):\n",
    "        music['decade'][i] = 1940\n",
    "    elif (music.year[i] >= 1950) & (music.year[i] < 1960):\n",
    "        music['decade'][i] = 1950\n",
    "    elif (music.year[i] >= 1960) & (music.year[i] < 1970):\n",
    "        music['decade'][i] = 1960\n",
    "    elif (music.year[i] >= 1970) & (music.year[i] < 1980):\n",
    "        music['decade'][i] = 1970\n",
    "    elif (music.year[i] >= 1980) & (music.year[i] < 1990):\n",
    "        music['decade'][i] = 1980\n",
    "    elif (music.year[i] >= 1990) & (music.year[i] < 2000):\n",
    "        music['decade'][i] = 1990\n",
    "    elif (music.year[i] >= 2000) & (music.year[i] < 2010):\n",
    "        music['decade'][i] = 2000\n",
    "    elif (music.year[i] >= 2010) & (music.year[i] < 2020):\n",
    "        music['decade'][i] = 2010\n",
    "    else:\n",
    "        music['decade'][i] = 2020"
   ]
  },
  {
   "cell_type": "code",
   "execution_count": 9,
   "id": "d957ccce-91b7-46a9-9b44-6b8b0a8d7689",
   "metadata": {},
   "outputs": [
    {
     "data": {
      "text/html": [
       "<div>\n",
       "<style scoped>\n",
       "    .dataframe tbody tr th:only-of-type {\n",
       "        vertical-align: middle;\n",
       "    }\n",
       "\n",
       "    .dataframe tbody tr th {\n",
       "        vertical-align: top;\n",
       "    }\n",
       "\n",
       "    .dataframe thead th {\n",
       "        text-align: right;\n",
       "    }\n",
       "</style>\n",
       "<table border=\"1\" class=\"dataframe\">\n",
       "  <thead>\n",
       "    <tr style=\"text-align: right;\">\n",
       "      <th></th>\n",
       "      <th>year</th>\n",
       "      <th>decade</th>\n",
       "    </tr>\n",
       "  </thead>\n",
       "  <tbody>\n",
       "    <tr>\n",
       "      <th>0</th>\n",
       "      <td>1920</td>\n",
       "      <td>1920</td>\n",
       "    </tr>\n",
       "    <tr>\n",
       "      <th>1</th>\n",
       "      <td>1920</td>\n",
       "      <td>1920</td>\n",
       "    </tr>\n",
       "    <tr>\n",
       "      <th>2</th>\n",
       "      <td>1920</td>\n",
       "      <td>1920</td>\n",
       "    </tr>\n",
       "    <tr>\n",
       "      <th>3</th>\n",
       "      <td>1920</td>\n",
       "      <td>1920</td>\n",
       "    </tr>\n",
       "    <tr>\n",
       "      <th>4</th>\n",
       "      <td>1920</td>\n",
       "      <td>1920</td>\n",
       "    </tr>\n",
       "    <tr>\n",
       "      <th>...</th>\n",
       "      <td>...</td>\n",
       "      <td>...</td>\n",
       "    </tr>\n",
       "    <tr>\n",
       "      <th>174384</th>\n",
       "      <td>2020</td>\n",
       "      <td>2020</td>\n",
       "    </tr>\n",
       "    <tr>\n",
       "      <th>174385</th>\n",
       "      <td>2021</td>\n",
       "      <td>2020</td>\n",
       "    </tr>\n",
       "    <tr>\n",
       "      <th>174386</th>\n",
       "      <td>2020</td>\n",
       "      <td>2020</td>\n",
       "    </tr>\n",
       "    <tr>\n",
       "      <th>174387</th>\n",
       "      <td>2021</td>\n",
       "      <td>2020</td>\n",
       "    </tr>\n",
       "    <tr>\n",
       "      <th>174388</th>\n",
       "      <td>2020</td>\n",
       "      <td>2020</td>\n",
       "    </tr>\n",
       "  </tbody>\n",
       "</table>\n",
       "<p>174389 rows × 2 columns</p>\n",
       "</div>"
      ],
      "text/plain": [
       "        year  decade\n",
       "0       1920    1920\n",
       "1       1920    1920\n",
       "2       1920    1920\n",
       "3       1920    1920\n",
       "4       1920    1920\n",
       "...      ...     ...\n",
       "174384  2020    2020\n",
       "174385  2021    2020\n",
       "174386  2020    2020\n",
       "174387  2021    2020\n",
       "174388  2020    2020\n",
       "\n",
       "[174389 rows x 2 columns]"
      ]
     },
     "execution_count": 9,
     "metadata": {},
     "output_type": "execute_result"
    }
   ],
   "source": [
    "music[['year', 'decade']]"
   ]
  },
  {
   "cell_type": "code",
   "execution_count": 10,
   "id": "c636f9f1-490b-49dc-a370-861c8fb5cf19",
   "metadata": {},
   "outputs": [
    {
     "data": {
      "text/plain": [
       "2010    22455\n",
       "1990    20328\n",
       "1970    20118\n",
       "1980    20074\n",
       "1950    20000\n",
       "1960    19610\n",
       "1940    15493\n",
       "2000    13782\n",
       "1930    10764\n",
       "2020     6134\n",
       "1920     5631\n",
       "Name: decade, dtype: int64"
      ]
     },
     "execution_count": 10,
     "metadata": {},
     "output_type": "execute_result"
    },
    {
     "data": {
      "image/png": "[encoded data removed]",
      "text/plain": [
       "<Figure size 432x288 with 1 Axes>"
      ]
     },
     "metadata": {
      "needs_background": "light"
     },
     "output_type": "display_data"
    }
   ],
   "source": [
    "plt.hist(music.decade)\n",
    "music.decade.value_counts()"
   ]
  },
  {
   "cell_type": "code",
   "execution_count": 11,
   "id": "e5cde144-cd4f-4ad4-b485-e1d223a25ac4",
   "metadata": {},
   "outputs": [
    {
     "data": {
      "text/plain": [
       "2    43768\n",
       "4    43669\n",
       "3    43134\n",
       "1    42737\n",
       "0     1081\n",
       "Name: tempo_disc, dtype: int64"
      ]
     },
     "execution_count": 11,
     "metadata": {},
     "output_type": "execute_result"
    },
    {
     "data": {
      "image/png": "[encoded data removed]",
      "text/plain": [
       "<Figure size 432x288 with 1 Axes>"
      ]
     },
     "metadata": {
      "needs_background": "light"
     },
     "output_type": "display_data"
    }
   ],
   "source": [
    "#Tempos\n",
    "# hist(music$tempo)\n",
    "# music$tempo_disc <- discretize(music$tempo, method = \"cluster\", breaks = 5, labels = FALSE)\n",
    "# music$tempo_disc <- as.factor(music$tempo_disc)\n",
    "# table(music$temp_disc)\n",
    "\n",
    "plt.hist(music.tempo)\n",
    "music[\"tempo_disc\"] = np.digitize(music.tempo, [60, 94, 116, 135])\n",
    "music[\"tempo_disc\"] = music[\"tempo_disc\"].astype(str)\n",
    "music.tempo_disc.value_counts()"
   ]
  },
  {
   "cell_type": "code",
   "execution_count": 12,
   "id": "116facb5-78c1-42ef-af4b-89cf3f405b3e",
   "metadata": {},
   "outputs": [
    {
     "name": "stderr",
     "output_type": "stream",
     "text": [
      "C:\\Users\\jessi\\anaconda3\\lib\\site-packages\\ipykernel_launcher.py:13: SettingWithCopyWarning: \n",
      "A value is trying to be set on a copy of a slice from a DataFrame\n",
      "\n",
      "See the caveats in the documentation: https://pandas.pydata.org/pandas-docs/stable/user_guide/indexing.html#returning-a-view-versus-a-copy\n",
      "  del sys.path[0]\n",
      "C:\\Users\\jessi\\anaconda3\\lib\\site-packages\\ipykernel_launcher.py:11: SettingWithCopyWarning: \n",
      "A value is trying to be set on a copy of a slice from a DataFrame\n",
      "\n",
      "See the caveats in the documentation: https://pandas.pydata.org/pandas-docs/stable/user_guide/indexing.html#returning-a-view-versus-a-copy\n",
      "  # This is added back by InteractiveShellApp.init_path()\n"
     ]
    },
    {
     "data": {
      "text/plain": [
       "0    136808\n",
       "1     37581\n",
       "Name: multi_artist, dtype: int64"
      ]
     },
     "execution_count": 12,
     "metadata": {},
     "output_type": "execute_result"
    }
   ],
   "source": [
    "#Multi Artists\n",
    "# for (i in 1:nrow(music)) {\n",
    "#   if (grepl(\"', '\", music$artists[i])) { music$multi_artist[i] <- 1 }\n",
    "#   else { music$multi_artist[i] <- 0 }\n",
    "# }\n",
    "# table(music$multi_artist)\n",
    "\n",
    "music[\"multi_artist\"] = np.where((\",\" in music.artists), 1, 0) #I don't know why but this line has to be run before the for loop\n",
    "for i in range(len(music)):\n",
    "    if \",\" in music.artists[i]:\n",
    "        music.multi_artist[i] = 1\n",
    "    else:\n",
    "        music.multi_artist[i] = 0\n",
    "\n",
    "music.multi_artist = music.multi_artist.astype(str) \n",
    "music.multi_artist.value_counts()"
   ]
  },
  {
   "cell_type": "code",
   "execution_count": 13,
   "id": "e4139d0c-e647-4f97-837b-b64934d04798",
   "metadata": {},
   "outputs": [],
   "source": [
    "# Explicit - make factor\n",
    "# music$explicit <- as.factor(music$explicit)\n",
    "\n",
    "music.explicit = music.explicit.astype(str)"
   ]
  },
  {
   "cell_type": "code",
   "execution_count": 64,
   "id": "f199fdff-fd7c-415e-a7aa-fe897c083d25",
   "metadata": {},
   "outputs": [
    {
     "data": {
      "image/png": "[encoded data removed]",
      "text/plain": [
       "<Figure size 432x288 with 1 Axes>"
      ]
     },
     "metadata": {
      "needs_background": "light"
     },
     "output_type": "display_data"
    }
   ],
   "source": [
    "# Duration MS\n",
    "# hist(music$duration_ms)\n",
    "# hist(log(music$duration_ms))\n",
    "# music$log_duration_ms <- log(music$duration_ms)\n",
    "\n",
    "plt.hist(music.duration_ms)\n",
    "plt.hist(np.log(music.duration_ms))\n",
    "music[\"log_duration_ms\"] = np.log(music.duration_ms)"
   ]
  },
  {
   "cell_type": "code",
   "execution_count": 15,
   "id": "44ca3bdc-a3bb-4dcb-b93c-c333541847a4",
   "metadata": {},
   "outputs": [
    {
     "data": {
      "text/plain": [
       "4    44561\n",
       "3    44086\n",
       "0    42221\n",
       "2    27187\n",
       "1    16334\n",
       "Name: acousticness_disc, dtype: int64"
      ]
     },
     "execution_count": 15,
     "metadata": {},
     "output_type": "execute_result"
    },
    {
     "data": {
      "image/png": "[encoded data removed]",
      "text/plain": [
       "<Figure size 432x288 with 1 Axes>"
      ]
     },
     "metadata": {
      "needs_background": "light"
     },
     "output_type": "display_data"
    }
   ],
   "source": [
    "# Acousticness - discretize into 5 bins\n",
    "# hist(music$acousticness)\n",
    "# hist(music$acousticness, breaks = 20, main = \"K-Means\")\n",
    "# abline(v = discretize(music$acousticness, method = \"cluster\", breaks = 5, \n",
    "#                       onlycuts = TRUE), col = \"red\")\n",
    "# music$acousticness_disc <- discretize(music$acousticness, method = \"cluster\", breaks = 5, labels = FALSE)\n",
    "# table(music$acousticness_disc)\n",
    "# music$acousticness_disc <- as.factor(music$acousticness_disc)\n",
    "\n",
    "plt.hist(music.acousticness)\n",
    "music.acousticness.describe()\n",
    "music[\"acousticness_disc\"] = np.digitize(music.acousticness, [0.08, 0.2, 0.5, 0.89])\n",
    "music.acousticness_disc = music.acousticness_disc.astype(str)\n",
    "music.acousticness_disc.value_counts()"
   ]
  },
  {
   "cell_type": "code",
   "execution_count": 16,
   "id": "6a711171-0fdb-4656-844f-36ca64e38859",
   "metadata": {},
   "outputs": [
    {
     "data": {
      "text/plain": [
       "4    46678\n",
       "3    39932\n",
       "0    39740\n",
       "2    27905\n",
       "1    20134\n",
       "Name: danceability_disc, dtype: int64"
      ]
     },
     "execution_count": 16,
     "metadata": {},
     "output_type": "execute_result"
    },
    {
     "data": {
      "image/png": "[encoded data removed]",
      "text/plain": [
       "<Figure size 432x288 with 1 Axes>"
      ]
     },
     "metadata": {
      "needs_background": "light"
     },
     "output_type": "display_data"
    }
   ],
   "source": [
    "# Danceability - discretize\n",
    "# hist(music$danceability)\n",
    "# summary(music$danceability)\n",
    "# hist(music$danceability, breaks = 20, main = \"K-Means\")\n",
    "# abline(v = discretize(music$danceability, method = \"cluster\", breaks = 5, \n",
    "#                       onlycuts = TRUE), col = \"red\")\n",
    "# music$danceability_disc <- discretize(music$danceability, method = \"cluster\", breaks = 5, labels = FALSE)\n",
    "# music$danceability_disc <- as.factor(music$danceability_disc)\n",
    "\n",
    "plt.hist(music.danceability)\n",
    "music.danceability.describe()\n",
    "music[\"danceability_disc\"] = np.digitize(music.danceability, [0.4, 0.47, 0.55, 0.66])\n",
    "music.danceability_disc = music.danceability_disc.astype(str)\n",
    "music.danceability_disc.value_counts()"
   ]
  },
  {
   "cell_type": "code",
   "execution_count": 17,
   "id": "d538e89d-e9b5-4763-8e1a-8cbb30809c90",
   "metadata": {},
   "outputs": [
    {
     "data": {
      "text/plain": [
       "1    42115\n",
       "2    37296\n",
       "3    33079\n",
       "0    32477\n",
       "4    29422\n",
       "Name: energy_disc, dtype: int64"
      ]
     },
     "execution_count": 17,
     "metadata": {},
     "output_type": "execute_result"
    },
    {
     "data": {
      "image/png": "[encoded data removed]",
      "text/plain": [
       "<Figure size 432x288 with 1 Axes>"
      ]
     },
     "metadata": {
      "needs_background": "light"
     },
     "output_type": "display_data"
    }
   ],
   "source": [
    "# Energy - transform or discretize\n",
    "# hist(music$energy)\n",
    "# library(bestNormalize)\n",
    "# BNobject <- bestNormalize(music$energy)\n",
    "# music$energy_trans <- BNobject$x.t\n",
    "# hist(music$energy_trans)\n",
    "# hist(music$energy, breaks = 20, main = \"K-Means\")\n",
    "# abline(v = discretize(music$energy, method = \"cluster\", breaks = 5, \n",
    "#                       onlycuts = TRUE), col = \"red\")\n",
    "# music$energy_disc <- discretize(music$energy, method = \"cluster\", breaks = 5, labels = FALSE)\n",
    "# music$energy_disc <- as.factor(music$energy_disc)\n",
    "\n",
    "plt.hist(music.energy)\n",
    "music.energy.describe()\n",
    "music[\"energy_disc\"] = np.digitize(music.energy, [0.2, 0.4, 0.6, 0.8])\n",
    "music.energy_disc = music.energy_disc.astype(str)\n",
    "music.energy_disc.value_counts()"
   ]
  },
  {
   "cell_type": "code",
   "execution_count": 32,
   "id": "d6bc9c5e-e4c5-4d7a-9832-6f0a49f4fbcd",
   "metadata": {},
   "outputs": [
    {
     "data": {
      "text/plain": [
       "0    91786\n",
       "1    31978\n",
       "4    24535\n",
       "2    14290\n",
       "3    11800\n",
       "Name: instrumentalness_disc, dtype: int64"
      ]
     },
     "execution_count": 32,
     "metadata": {},
     "output_type": "execute_result"
    },
    {
     "data": {
      "image/png": "[encoded data removed]",
      "text/plain": [
       "<Figure size 432x288 with 1 Axes>"
      ]
     },
     "metadata": {
      "needs_background": "light"
     },
     "output_type": "display_data"
    }
   ],
   "source": [
    "# Instrumentalness - discretize into 5 bins\n",
    "# hist(music$instrumentalness, breaks = 20, main = \"K-Means\")\n",
    "# abline(v = discretize(music$instrumentalness, method = \"cluster\", breaks = 5, \n",
    "#                       onlycuts = TRUE), col = \"red\")\n",
    "# music$instrumentalness_disc <- discretize(music$instrumentalness, method = \"cluster\", breaks = 5, labels = FALSE)\n",
    "# music$instrumentalness_disc <- as.factor(music$instrumentalness_disc)\n",
    "\n",
    "plt.hist(music.instrumentalness)\n",
    "music.instrumentalness.describe()\n",
    "music[\"instrumentalness_disc\"] = np.digitize(music.instrumentalness, [0.001, 0.1, 0.5, 0.8])\n",
    "music.instrumentalness_disc = music.instrumentalness_disc.astype(str)\n",
    "music.instrumentalness_disc.value_counts()"
   ]
  },
  {
   "cell_type": "code",
   "execution_count": 43,
   "id": "5e980296-075f-4faa-ae05-540c9851dde7",
   "metadata": {},
   "outputs": [
    {
     "data": {
      "text/plain": [
       "1    71246\n",
       "2    42656\n",
       "3    24118\n",
       "0    22946\n",
       "4    13423\n",
       "Name: liveness_disc, dtype: int64"
      ]
     },
     "execution_count": 43,
     "metadata": {},
     "output_type": "execute_result"
    },
    {
     "data": {
      "image/png": "[encoded data removed]",
      "text/plain": [
       "<Figure size 432x288 with 1 Axes>"
      ]
     },
     "metadata": {
      "needs_background": "light"
     },
     "output_type": "display_data"
    }
   ],
   "source": [
    "# Key - make factor\n",
    "# music$key <- as.factor(music$key)\n",
    "\n",
    "music.key = music.key.astype(str)\n",
    "\n",
    "# # Liveness - discretize into 5 bins\n",
    "# hist(music$liveness, breaks = 5)\n",
    "# table(discretize(music$liveness, method = \"cluster\", breaks = 5))\n",
    "# hist(music$liveness, breaks = 20, main = \"K-Means\")\n",
    "# abline(v = discretize(music$liveness, method = \"cluster\", breaks = 5, \n",
    "#                       onlycuts = TRUE), col = \"red\")\n",
    "# music$liveness_disc <- discretize(music$liveness, method = \"cluster\", breaks = 5, labels = FALSE)\n",
    "# music$liveness_disc <- as.factor(music$liveness_disc)\n",
    "\n",
    "plt.hist(music.liveness)\n",
    "music.liveness.describe()\n",
    "music[\"liveness_disc\"] = np.digitize(music.liveness, [0.08, 0.15, 0.3, 0.5])\n",
    "music.liveness_disc = music.liveness_disc.astype(str)\n",
    "music.liveness_disc.value_counts()"
   ]
  },
  {
   "cell_type": "code",
   "execution_count": 45,
   "id": "4381f99f-5130-4fe4-891e-7a374bcd71bc",
   "metadata": {},
   "outputs": [
    {
     "data": {
      "text/plain": [
       "3    62359\n",
       "2    54982\n",
       "1    27174\n",
       "0    15712\n",
       "4    14162\n",
       "Name: loudness_disc, dtype: int64"
      ]
     },
     "execution_count": 45,
     "metadata": {},
     "output_type": "execute_result"
    },
    {
     "data": {
      "image/png": "[encoded data removed]",
      "text/plain": [
       "<Figure size 432x288 with 1 Axes>"
      ]
     },
     "metadata": {
      "needs_background": "light"
     },
     "output_type": "display_data"
    }
   ],
   "source": [
    "# Loudness - discretize into 5 bins\n",
    "# hist(music$loudness)\n",
    "# table(discretize(music$loudness, method = \"cluster\", breaks = 5))\n",
    "# hist(music$loudness, breaks = 20, main = \"K-Means\")\n",
    "# abline(v = discretize(music$loudness, method = \"cluster\", breaks = 5, \n",
    "#                       onlycuts = TRUE), col = \"red\")\n",
    "# music$loudness_disc <- discretize(music$loudness, method = \"cluster\", breaks = 5, labels = FALSE)\n",
    "# music$loudness_disc <- as.factor(music$loudness_disc)\n",
    "\n",
    "plt.hist(music.loudness)\n",
    "music.loudness.describe()\n",
    "music[\"loudness_disc\"] = np.digitize(music.loudness, [-20, -15, -10, -5])\n",
    "music.loudness_disc = music.loudness_disc.astype(str)\n",
    "music.loudness_disc.value_counts()"
   ]
  },
  {
   "cell_type": "code",
   "execution_count": 49,
   "id": "dfd494c9-7522-43d7-aac9-1b399e0d6bb9",
   "metadata": {},
   "outputs": [
    {
     "data": {
      "text/plain": [
       "4    44458\n",
       "3    44443\n",
       "2    43094\n",
       "1    26266\n",
       "0    16128\n",
       "Name: speechiness_disc, dtype: int64"
      ]
     },
     "execution_count": 49,
     "metadata": {},
     "output_type": "execute_result"
    },
    {
     "data": {
      "image/png": "[encoded data removed]",
      "text/plain": [
       "<Figure size 432x288 with 1 Axes>"
      ]
     },
     "metadata": {
      "needs_background": "light"
     },
     "output_type": "display_data"
    }
   ],
   "source": [
    "# Speechiness - discretize into 5 bins\n",
    "# hist(music$speechiness)\n",
    "# table(discretize(music$speechiness, method = \"cluster\", breaks = 5))\n",
    "# hist(music$speechiness, breaks = 20, main = \"K-Means\")\n",
    "# abline(v = discretize(music$speechiness, method = \"cluster\", breaks = 5, \n",
    "#                       onlycuts = TRUE), col = \"red\")\n",
    "# music$speechiness_disc <- discretize(music$speechiness, method = \"cluster\", breaks = 5, labels = FALSE)\n",
    "# music$speechiness_disc <- as.factor(music$speechiness_disc)\n",
    "\n",
    "plt.hist(music.speechiness)\n",
    "music.speechiness.describe()\n",
    "music[\"speechiness_disc\"] = np.digitize(music.speechiness, [0.03, 0.035, 0.045, 0.075])\n",
    "music.speechiness_disc = music.speechiness_disc.astype(str)\n",
    "music.speechiness_disc.value_counts()"
   ]
  },
  {
   "cell_type": "code",
   "execution_count": 50,
   "id": "701f7824-eeac-4bdb-ae60-5585ba780e3e",
   "metadata": {},
   "outputs": [
    {
     "data": {
      "text/plain": [
       "4    44447\n",
       "3    44191\n",
       "2    42316\n",
       "0    25567\n",
       "1    17868\n",
       "Name: valence_disc, dtype: int64"
      ]
     },
     "execution_count": 50,
     "metadata": {},
     "output_type": "execute_result"
    },
    {
     "data": {
      "image/png": "[encoded data removed]",
      "text/plain": [
       "<Figure size 432x288 with 1 Axes>"
      ]
     },
     "metadata": {
      "needs_background": "light"
     },
     "output_type": "display_data"
    }
   ],
   "source": [
    "# Valence - discretize into 5 bins\n",
    "# table(discretize(music$valence, method = \"cluster\", breaks = 5))\n",
    "# hist(music$valence, breaks = 20, main = \"K-Means\")\n",
    "# abline(v = discretize(music$valence, method = \"cluster\", breaks = 5, \n",
    "#                       onlycuts = TRUE), col = \"red\")\n",
    "# music$valence_disc <- discretize(music$valence, method = \"cluster\", breaks = 5, labels = FALSE)\n",
    "# music$valence_disc <- as.factor(music$valence_disc)\n",
    "\n",
    "plt.hist(music.valence)\n",
    "music.valence.describe()\n",
    "music[\"valence_disc\"] = np.digitize(music.valence, [0.2, 0.31, 0.53, 0.74])\n",
    "music.valence_disc = music.valence_disc.astype(str)\n",
    "music.valence_disc.value_counts()"
   ]
  },
  {
   "cell_type": "code",
   "execution_count": 51,
   "id": "2780f456-75fe-437c-8117-a35240d6c09b",
   "metadata": {},
   "outputs": [],
   "source": [
    "# Mode - factor\n",
    "# music$mode <- as.factor(music$mode)\n",
    "\n",
    "music.mode = music[\"mode\"].astype(str)"
   ]
  },
  {
   "cell_type": "code",
   "execution_count": 53,
   "id": "a386e600-6d15-4ae4-94ad-e7ac520c0ac8",
   "metadata": {},
   "outputs": [
    {
     "data": {
      "text/plain": [
       "4    45159\n",
       "3    44399\n",
       "2    43926\n",
       "0    40905\n",
       "Name: popularity_disc, dtype: int64"
      ]
     },
     "execution_count": 53,
     "metadata": {},
     "output_type": "execute_result"
    },
    {
     "data": {
      "image/png": "[encoded data removed]",
      "text/plain": [
       "<Figure size 432x288 with 1 Axes>"
      ]
     },
     "metadata": {
      "needs_background": "light"
     },
     "output_type": "display_data"
    }
   ],
   "source": [
    "# Popularity - factor w/ 5 levels\n",
    "# music$popularity_disc <- discretize(music$popularity, method = \"interval\", breaks = 3, labels = FALSE)\n",
    "# music$popularity_disc <- as.factor(music$popularity_disc)\n",
    "# summary(music$popularity)\n",
    "# table(music$popularity_disc)\n",
    "\n",
    "plt.hist(music.popularity)\n",
    "music.popularity.describe()\n",
    "music[\"popularity_disc\"] = np.digitize(music.popularity, [0.5, 1, 25, 42])\n",
    "music.popularity_disc = music.popularity_disc.astype(str)\n",
    "music.popularity_disc.value_counts()"
   ]
  },
  {
   "cell_type": "code",
   "execution_count": 66,
   "id": "73dec986-81de-45de-8d9e-4982f82f245f",
   "metadata": {},
   "outputs": [],
   "source": [
    "#Split into 2 datasets: All Numeric, Discretized\n",
    "# music_raw <- music[which(colnames(music) %in% c(\"acousticness\", \"danceability\", \"duration_ms\", \"energy\", \"explicit\", \"instrumentalness\", \n",
    "#\"key\", \"liveness\", \"loudness\", \"mode\", \"popularity_disc\", \"release_date\", \"speechiness\", \"tempo\", \"valence\", \"year\", \"multi_artist\"))]\n",
    "\n",
    "# music_disc <- music[which(colnames(music) %in% c(\"popularity_disc\", \"decade\", \"temp_disc\", \"multi_artist\", \"log_duration_ms\", \"danceability_disc\", \n",
    "#\"explicit\", \"instrumentalness_disc\", \"key\", \"liveness_disc\", \"loudness_disc\", \"speechiness_disc\", \"valence_disc\", \"acousticness_disc\", \"energy_disc\",\n",
    "#\"mode\"))]\n",
    "\n",
    "music_raw = music[[\"acousticness\", \"danceability\", \"duration_ms\", \"energy\", \"explicit\", \"instrumentalness\",\"key\", \"liveness\", \"loudness\", \"mode\", \n",
    "                   \"popularity_disc\", \"release_date\", \"speechiness\", \"tempo\", \"valence\", \"year\", \"multi_artist\"]]\n",
    "\n",
    "music_disc = music[[\"popularity_disc\", \"decade\", \"tempo_disc\", \"multi_artist\", \"log_duration_ms\", \"danceability_disc\", \"explicit\", \n",
    "                    \"instrumentalness_disc\", \"key\", \"liveness_disc\", \"loudness_disc\", \"speechiness_disc\", \"valence_disc\", \"acousticness_disc\", \n",
    "                    \"energy_disc\", \"mode\"]]"
   ]
  },
  {
   "cell_type": "code",
   "execution_count": null,
   "id": "ff358ed7-7d4a-4dbc-8f4a-23522c2e62a3",
   "metadata": {},
   "outputs": [
    {
     "data": {
      "text/plain": [
       "array([0.2629384 , 0.15431963, 0.0929234 , 0.08340873, 0.07501601])"
      ]
     },
     "execution_count": 96,
     "metadata": {},
     "output_type": "execute_result"
    }
   ],
   "source": [
    "#Principle Components}\n",
    "# music_pca <- music[-which(colnames(music)%in%c(\"artists\", \"explicit\", \"key\", \"release_date\", \"tempo_disc\", \"acousticness_disc\", \n",
    "#\"danceability_disc\", \"energy_disc\", \"instrumentalness_disc\", \"liveness_disc\", \"loudness_disc\", \"speechiness_disc\", \"valence_disc\", \"decade\", \n",
    "#\"mode\", \"popularity_disc\", \"valence_disc\"))]\n",
    "\n",
    "# summary(music_pca)\n",
    "# pc_raw <- prcomp(music_pca, scale = TRUE, retx = TRUE)\n",
    "# summary(pc_raw) # Use 11 PCs to explain 95% of variation\n",
    "\n",
    "    \n",
    "# music_pca = music.loc[:, ~music.columns.isin([\"artists\", \"explicit\", \"key\", \"release_date\", \"tempo_disc\", \"acousticness_disc\", \n",
    "# \"danceability_disc\", \"energy_disc\", \"instrumentalness_disc\", \"liveness_disc\", \"loudness_disc\", \"speechiness_disc\", \"valence_disc\", \"decade\", \n",
    "# \"mode\", \"popularity_disc\", \"valence_disc\"]) ]\n",
    "# music_pca.info()\n",
    "\n",
    "# Standardizing the features\n",
    "features = music_pca.columns\n",
    "x = music.loc[:, features].values\n",
    "x = StandardScaler().fit_transform(x)\n",
    "pca = PCA(n_components=5)\n",
    "principalComponents = pca.fit_transform(x)\n",
    "principalDf = pd.DataFrame(data = principalComponents, columns = ['principal component 1', 'principal component 2', 'principal component 3', \n",
    "                                                                  'principal component 4', 'principal component 5'])\n",
    "pca.explained_variance_ratio_"
   ]
  },
  {
   "cell_type": "code",
   "execution_count": null,
   "id": "bb407410",
   "metadata": {},
   "outputs": [],
   "source": [
    "# split into training and holdout\n",
    "X = music_disc.loc[:, music_disc.columns != 'popularity_disc']\n",
    "y = music_disc.loc[:, music_disc.columns == 'popularity_disc']\n",
    "X_train, X_test, y_train, y_test = train_test_split(X, y, test_size=0.3, random_state=1) # 70% training and 30% test"
   ]
  },
  {
   "cell_type": "code",
   "execution_count": null,
   "id": "d844c6cc",
   "metadata": {},
   "outputs": [],
   "source": [
    "# create tuning parameter grid function\n",
    "def expand_grid(dictionary):\n",
    "   return pd.DataFrame([i for i in product(*dictionary.values())], \n",
    "                       columns=dictionary.keys())"
   ]
  },
  {
   "cell_type": "code",
   "execution_count": null,
   "id": "ef186d2f",
   "metadata": {},
   "outputs": [],
   "source": [
    "# DECISION TREE\n",
    "# Create tuning grid for Decision Tree\n",
    "dictionary = {'criterion': ['entropy','gini'],\n",
    "             'splitter': ['random','best'],\n",
    "             'max_depth': [8,10,25]}\n",
    "\n",
    "grid = expand_grid(dictionary)\n",
    "\n",
    "\n",
    "# CREATE MODEL\n",
    "accuracies = []\n",
    "for i in grid.index:\n",
    "    dt = DecisionTreeClassifier(criterion = grid.iloc[i,0]  , splitter = grid.iloc[i,1], max_depth = grid.iloc[i,2])\n",
    "\n",
    "    dt = dt.fit(X_train,y_train)\n",
    "\n",
    "    accuracies.append(dt.score(X_test,y_test))\n",
    "\n",
    "    \n",
    "# CHECK ACCURACIES AND WHICH MODEL IS BEST\n",
    "dt_accuracies = pd.DataFrame(accuracies)\n",
    "dt_accuracies = dt_accuracies.rename(columns={0: \"accuracy\"})\n",
    "dt_accuracies['criterion'] = grid.iloc[:,0]\n",
    "dt_accuracies['splitter'] = grid.iloc[:,1]\n",
    "dt_accuracies['max_depth'] = grid.iloc[:,2]\n",
    "dt_accuracies\n",
    "\n",
    "best_dt_model = dt_accuracies.iloc[dt_accuracies['accuracy'].idxmax()]\n",
    "best_dt_model"
   ]
  },
  {
   "cell_type": "code",
   "execution_count": null,
   "id": "e3fa1bd8",
   "metadata": {},
   "outputs": [],
   "source": [
    "# RANDOM FOREST\n",
    "# CREATE MODEL\n",
    "\n",
    "rf = RandomForestRegressor(n_estimators = 2000, random_state = 42, max_features = 'sqrt', bootstrap = True)\n",
    "\n",
    "rf = rf.fit(X_train,y_train.values.ravel())\n",
    "    \n",
    "accuracy = rf.score(X_test,y_test)\n",
    "\n",
    "best_rf_model = accuracy\n",
    "best_rf_model"
   ]
  }
 ],
 "metadata": {
  "kernelspec": {
   "display_name": "Python 3 (ipykernel)",
   "language": "python",
   "name": "python3"
  },
  "language_info": {
   "codemirror_mode": {
    "name": "ipython",
    "version": 3
   },
   "file_extension": ".py",
   "mimetype": "text/x-python",
   "name": "python",
   "nbconvert_exporter": "python",
   "pygments_lexer": "ipython3",
   "version": "3.8.10"
  }
 },
 "nbformat": 4,
 "nbformat_minor": 5
}
